{
  "nbformat": 4,
  "nbformat_minor": 0,
  "metadata": {
    "colab": {
      "name": "Copy of AML_06.ipynb",
      "provenance": [],
      "collapsed_sections": []
    },
    "kernelspec": {
      "name": "python3",
      "display_name": "Python 3"
    },
    "accelerator": "GPU"
  },
  "cells": [
    {
      "cell_type": "markdown",
      "metadata": {
        "id": "p--NpOmp9Cll"
      },
      "source": [
        "***Bài Thực Hành 06: GAN***\n",
        "1. Tìm Hiểu cách hoạt động của GAN bằng các lớp Fully-Connected, bằng cách overwrite lên hàm train_step trong Keras.Model\n",
        "2. Thử tạo ra một mô hình DCGAN\n"
      ]
    },
    {
      "cell_type": "code",
      "metadata": {
        "id": "yZ9uoe6u-X84"
      },
      "source": [
        "#Thư viện\n",
        "import tensorflow as tf\n",
        "from tensorflow import keras\n",
        "from tensorflow.keras import layers\n",
        "import numpy as np\n"
      ],
      "execution_count": null,
      "outputs": []
    },
    {
      "cell_type": "markdown",
      "metadata": {
        "id": "lwmy-wqcOkOz"
      },
      "source": [
        ""
      ]
    },
    {
      "cell_type": "code",
      "metadata": {
        "id": "PVHVLO5h_-eI"
      },
      "source": [
        "batch_size = 128 # batch size để đưa vào mô hình huấn luyện\n",
        "(x_train, y_train), (x_test, y_test) = keras.datasets.mnist.load_data() #đọc dữ liệu\n",
        "all_digits = np.concatenate([x_train, x_test]) \n",
        "all_digits = all_digits.astype(\"float32\") / 255 #đưa tấm hình về [0,1]\n",
        "all_digits = np.reshape(all_digits,(-1,28,28,1)) #reshape toàn bộ dữ liệu lại\n",
        "dataset=tf.data.Dataset.from_tensor_slices(all_digits) #Đưa dữ liệu về dạng tensor\n",
        "dataset = dataset.shuffle(buffer_size=1024).batch(batch_size).prefetch(32) #shuffle dữ liệu mỗi lần đưa vào mô hình"
      ],
      "execution_count": null,
      "outputs": []
    },
    {
      "cell_type": "code",
      "metadata": {
        "colab": {
          "base_uri": "https://localhost:8080/"
        },
        "id": "KgT3nZCWlRzY",
        "outputId": "4b4c5635-a2df-4dcc-b1eb-6e7fc8b2d4c9"
      },
      "source": [
        "#mô hình của mạng Discrimimator\n",
        "discriminator=keras.Sequential()\n",
        "\n",
        "discriminator.add(keras.Input(shape=(28,28,1)))\n",
        "\n",
        "discriminator.add(keras.layers.Flatten())\n",
        "\n",
        "discriminator.add(keras.layers.Dense(units=1024))\n",
        "discriminator.add(keras.layers.LeakyReLU(alpha=0.2))\n",
        "discriminator.add(keras.layers.Dropout(0.3))\n",
        "\n",
        "discriminator.add(keras.layers.Dense(units=512))\n",
        "discriminator.add(keras.layers.LeakyReLU(alpha=0.2))\n",
        "discriminator.add(keras.layers.Dropout(0.3))\n",
        "\n",
        "discriminator.add(keras.layers.Dense(units=256))\n",
        "discriminator.add(keras.layers.LeakyReLU(alpha=0.2))\n",
        "discriminator.add(keras.layers.Dropout(0.3))\n",
        "\n",
        "discriminator.add(keras.layers.Dense(1))\n",
        "\n",
        "discriminator.add(keras.layers.Activation(activation=\"sigmoid\",name=\"sigmoid\"))  #do đây là mô hình dự đoán cho 2 nhãn nên dùng sigmoid\n",
        "\n",
        "discriminator.summary()"
      ],
      "execution_count": null,
      "outputs": [
        {
          "output_type": "stream",
          "text": [
            "Model: \"sequential\"\n",
            "_________________________________________________________________\n",
            "Layer (type)                 Output Shape              Param #   \n",
            "=================================================================\n",
            "flatten (Flatten)            (None, 784)               0         \n",
            "_________________________________________________________________\n",
            "dense (Dense)                (None, 1024)              803840    \n",
            "_________________________________________________________________\n",
            "leaky_re_lu (LeakyReLU)      (None, 1024)              0         \n",
            "_________________________________________________________________\n",
            "dropout (Dropout)            (None, 1024)              0         \n",
            "_________________________________________________________________\n",
            "dense_1 (Dense)              (None, 512)               524800    \n",
            "_________________________________________________________________\n",
            "leaky_re_lu_1 (LeakyReLU)    (None, 512)               0         \n",
            "_________________________________________________________________\n",
            "dropout_1 (Dropout)          (None, 512)               0         \n",
            "_________________________________________________________________\n",
            "dense_2 (Dense)              (None, 256)               131328    \n",
            "_________________________________________________________________\n",
            "leaky_re_lu_2 (LeakyReLU)    (None, 256)               0         \n",
            "_________________________________________________________________\n",
            "dropout_2 (Dropout)          (None, 256)               0         \n",
            "_________________________________________________________________\n",
            "dense_3 (Dense)              (None, 1)                 257       \n",
            "_________________________________________________________________\n",
            "sigmoid (Activation)         (None, 1)                 0         \n",
            "=================================================================\n",
            "Total params: 1,460,225\n",
            "Trainable params: 1,460,225\n",
            "Non-trainable params: 0\n",
            "_________________________________________________________________\n"
          ],
          "name": "stdout"
        }
      ]
    },
    {
      "cell_type": "code",
      "metadata": {
        "colab": {
          "base_uri": "https://localhost:8080/"
        },
        "id": "a83CJzPbiS1K",
        "outputId": "c967123b-d147-4bc0-f8a4-67e83277225f"
      },
      "source": [
        "#mô hình của mạng Generator\n",
        "latten_dim=100\n",
        "generator=keras.Sequential()\n",
        "\n",
        "generator.add(keras.Input(shape=(latten_dim,)))\n",
        "\n",
        "generator.add(keras.layers.Dense(units=256))\n",
        "generator.add(keras.layers.LeakyReLU(alpha=0.2))\n",
        "\n",
        "generator.add(keras.layers.Dense(units=512))\n",
        "generator.add(keras.layers.LeakyReLU(alpha=0.2))\n",
        "\n",
        "generator.add(keras.layers.Dense(units=1024))\n",
        "generator.add(keras.layers.LeakyReLU(alpha=0.2))\n",
        "\n",
        "generator.add(keras.layers.Dense(units=28*28))\n",
        "generator.add(keras.layers.Activation(activation=\"sigmoid\",name=\"sigmoid\"))  #Đưa về một tấm ảnh nên dùng sigmoid để về [0,1]\n",
        "\n",
        "generator.add(keras.layers.Reshape((28,28,1)))\n",
        "\n",
        "generator.summary()\n",
        "\n"
      ],
      "execution_count": null,
      "outputs": [
        {
          "output_type": "stream",
          "text": [
            "Model: \"sequential_29\"\n",
            "_________________________________________________________________\n",
            "Layer (type)                 Output Shape              Param #   \n",
            "=================================================================\n",
            "dense_48 (Dense)             (None, 256)               25856     \n",
            "_________________________________________________________________\n",
            "leaky_re_lu_48 (LeakyReLU)   (None, 256)               0         \n",
            "_________________________________________________________________\n",
            "dense_49 (Dense)             (None, 512)               131584    \n",
            "_________________________________________________________________\n",
            "leaky_re_lu_49 (LeakyReLU)   (None, 512)               0         \n",
            "_________________________________________________________________\n",
            "dense_50 (Dense)             (None, 1024)              525312    \n",
            "_________________________________________________________________\n",
            "leaky_re_lu_50 (LeakyReLU)   (None, 1024)              0         \n",
            "_________________________________________________________________\n",
            "dense_51 (Dense)             (None, 784)               803600    \n",
            "_________________________________________________________________\n",
            "sigmoid (Activation)         (None, 784)               0         \n",
            "_________________________________________________________________\n",
            "reshape_13 (Reshape)         (None, 28, 28, 1)         0         \n",
            "=================================================================\n",
            "Total params: 1,486,352\n",
            "Trainable params: 1,486,352\n",
            "Non-trainable params: 0\n",
            "_________________________________________________________________\n"
          ],
          "name": "stdout"
        }
      ]
    },
    {
      "cell_type": "code",
      "metadata": {
        "id": "hQiq0BZfBDZ_"
      },
      "source": [
        "class Gan(keras.Model):\n",
        "    def __init__(self, discriminator, generator, latent_dim):\n",
        "        super(Gan,self).__init__()\n",
        "        self.discriminator=discriminator \n",
        "        self.generator=generator\n",
        "        self.latent_dim=latent_dim\n",
        "    def compile(self, d_optimizer, g_optimizer, loss_function):\n",
        "        super(Gan,self).compile()\n",
        "        self.d_optimizer=d_optimizer\n",
        "        self.g_optimizer=g_optimizer\n",
        "        self.loss_function=loss_function \n",
        "    def train_step(self, real_images):\n",
        "        # tạo batch size từ dữ liệu đầu vào\n",
        "        batch_size = tf.shape(real_images)[0]\n",
        "        random_latent_vectors = tf.random.normal(shape=(batch_size, self.latent_dim)) #tạo noises theo phân phối chuẩn\n",
        "\n",
        "        # Tạo ra ảnh giả từ mạng generator\n",
        "        generated_images = self.generator(random_latent_vectors)\n",
        "\n",
        "        # nối ảnh giả và ảnh thật làm bộ dữ liệu cho mô hình discriminator\n",
        "        combined_images = tf.concat([generated_images, real_images], axis=0)\n",
        "\n",
        "        # Ở đây đánh nhãn ảnh thật là 1, ảnh giả là 0\n",
        "        labels = tf.concat(\n",
        "            [tf.ones((batch_size, 1)), tf.zeros((batch_size, 1))], axis=0\n",
        "        )\n",
        "        # trick để add thêm noise cho nhãn\n",
        "        labels += 0.05 * tf.random.uniform(tf.shape(labels))\n",
        "\n",
        "        # huấn luyện discriminator\n",
        "        with tf.GradientTape() as tape:\n",
        "            predictions = self.discriminator(combined_images) #Dự đoán \n",
        "            d_loss = self.loss_function(labels, predictions)  #Đưa kết quả dự đoán và grouth-truth vào hàm loss\n",
        "        grads = tape.gradient(d_loss, self.discriminator.trainable_weights)\n",
        "        self.d_optimizer.apply_gradients(\n",
        "            zip(grads, self.discriminator.trainable_weights)\n",
        "        ) #cập nhật weights cho mô hình discrimunator\n",
        "\n",
        "\n",
        "        # lặp lại bước tạo noise như ở trên\n",
        "        random_latent_vectors = tf.random.normal(shape=(batch_size, self.latent_dim))\n",
        "\n",
        "        # tạo mộ bộ nhãn sao cho đều là 1 để đánh lừa discriminator\n",
        "        misleading_labels = tf.zeros((batch_size, 1))\n",
        "\n",
        "        # Train generator (lưu ý k update weights cho discriminator)\n",
        "        with tf.GradientTape() as tape:\n",
        "            predictions = self.discriminator(self.generator(random_latent_vectors))\n",
        "            g_loss = self.loss_function(misleading_labels, predictions)\n",
        "        grads = tape.gradient(g_loss, self.generator.trainable_weights)\n",
        "        self.g_optimizer.apply_gradients(zip(grads, self.generator.trainable_weights))\n",
        "        return {\"d_loss\": d_loss, \"g_loss\": g_loss}\n",
        "\n",
        "\n",
        "\n",
        "\n",
        "    "
      ],
      "execution_count": null,
      "outputs": []
    },
    {
      "cell_type": "code",
      "metadata": {
        "id": "MLH0g6lEFrSW"
      },
      "source": [
        "#overwrite callback để lúc huấn luyện xem ảnh in ra\n",
        "from IPython.display import Image, display\n",
        "class GANMonitor(keras.callbacks.Callback):\n",
        "    def __init__(self, num_img=3, latent_dim=100):\n",
        "        self.num_img = num_img\n",
        "        self.latent_dim = latent_dim\n",
        "\n",
        "    def on_epoch_end(self, epoch, logs=None):\n",
        "        random_latent_vectors = tf.random.normal(shape=(self.num_img, self.latent_dim)) #Tạo noises\n",
        "        generated_images = self.model.generator(random_latent_vectors) #tạo ảnh\n",
        "        generated_images *= 255 #Đưa ảnh về [0,255]\n",
        "        generated_images.numpy() \n",
        "        print(\"epoch \",epoch)\n",
        "        for i in range(self.num_img):\n",
        "            img = keras.preprocessing.image.array_to_img(generated_images[i])\n",
        "            display(img) #in ảnh\n",
        "\n",
        "       \n",
        "            \n"
      ],
      "execution_count": null,
      "outputs": []
    }
}
