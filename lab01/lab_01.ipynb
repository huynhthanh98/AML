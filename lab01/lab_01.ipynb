{
  "nbformat": 4,
  "nbformat_minor": 0,
  "metadata": {
    "colab": {
      "name": "lab-01",
      "provenance": []
    },
    "kernelspec": {
      "name": "python3",
      "display_name": "Python 3"
    },
    "language_info": {
      "name": "python"
    }
  },
  "cells": [
    {
      "cell_type": "markdown",
      "metadata": {
        "id": "7NVcYrlwt8cj"
      },
      "source": [
        "Lab-01\n",
        "\n",
        "Ở bài thực hành đầu tiên này chúng ta sẽ làm quen với cách thức một neural network hoạt động. Thường sẽ có nhiều loại mã nguồn mở cho deep learning tiêu biểu là Tensorflow và Pytorch. Trong suốt quá trình học chúng ta sẽ thực hành trên Keras một thư viện high-level với phần low-level là Tensorflow"
      ]
    },
    {
      "cell_type": "code",
      "metadata": {
        "id": "5MorOhHZt6XQ"
      },
      "source": [
        "#Thư viện\n",
        "import tensorflow as tf\n",
        "import matplotlib.pyplot as plt\n",
        "import numpy as np\n",
        "from sklearn.model_selection import train_test_split"
      ],
      "execution_count": null,
      "outputs": []
    },
    {
      "cell_type": "code",
      "metadata": {
        "id": "KAFGmpN_w22q"
      },
      "source": [
        "sklearn.model_selection.train_test_split()"
      ],
      "execution_count": null,
      "outputs": []
    },
    {
      "cell_type": "code",
      "metadata": {
        "colab": {
          "base_uri": "https://localhost:8080/",
          "height": 35
        },
        "id": "_6g7soVet5It",
        "outputId": "26edac38-52d0-4348-e318-f72a4c98b3ef"
      },
      "source": [
        "#xem mình đang dùng tensorflow version mấy \n",
        "tf.__version__"
      ],
      "execution_count": null,
      "outputs": [
        {
          "output_type": "execute_result",
          "data": {
            "application/vnd.google.colaboratory.intrinsic+json": {
              "type": "string"
            },
            "text/plain": [
              "'2.6.0'"
            ]
          },
          "metadata": {},
          "execution_count": 5
        }
      ]
    },
    {
      "cell_type": "markdown",
      "metadata": {
        "id": "NMDp-QyGvqjS"
      },
      "source": [
        "Chúng ta sẽ làm quen với tập dữ liệu fashion_mnist. Đây là một tập dữ liệu bao gồm hình ảnh về quần áo, với mỗi ảnh gồm 3 kênh màu có giá trị pixel từ 0 đến 255."
      ]
    },
    {
      "cell_type": "code",
      "metadata": {
        "id": "Cm_l5QBmvYRr"
      },
      "source": [
        "fashion_mnist = tf.keras.datasets.fashion_mnist\n",
        "(train_images ,train_labels), (test_images ,test_labels)=fashion_mnist.load_data()"
      ],
      "execution_count": null,
      "outputs": []
    },
    {
      "cell_type": "code",
      "metadata": {
        "colab": {
          "base_uri": "https://localhost:8080/"
        },
        "id": "rbRyktMdvYOE",
        "outputId": "df1d591a-7d85-43e2-d5fe-6f6137fccca5"
      },
      "source": [
        "print(train_images.shape)\n",
        "print(test_images.shape)"
      ],
      "execution_count": null,
      "outputs": [
        {
          "output_type": "stream",
          "name": "stdout",
          "text": [
            "(60000, 28, 28)\n",
            "(10000, 28, 28)\n"
          ]
        }
      ]
    },
    {
      "cell_type": "code",
      "metadata": {
        "id": "29zH2sCovYLm"
      },
      "source": [
        "#chia tập train ra thành 2 tập train và validation\n",
        "train_images, valid_images, train_labels,valid_labels = train_test_split(train_images, train_labels, \n",
        "                                                                          random_state=0,\n",
        "                                                                          test_size=0.1)"
      ],
      "execution_count": null,
      "outputs": []
    },
    {
      "cell_type": "code",
      "metadata": {
        "colab": {
          "base_uri": "https://localhost:8080/",
          "height": 265
        },
        "id": "9JKqjJqI1Zt8",
        "outputId": "353f78a4-c041-4514-d353-92dda4eb5ba2"
      },
      "source": [
        "#Vẽ hình ra xem thử\n",
        "plt.figure()\n",
        "plt.imshow(train_images[0])\n",
        "plt.colorbar()\n",
        "plt.grid(False)\n",
        "plt.show()"
      ],
      "execution_count": null,
      "outputs": [
        {
          "output_type": "display_data",
          "data": {
            "image/png": "[encoded data removed]",
            "text/plain": [
              "<Figure size 432x288 with 2 Axes>"
            ]
          },
          "metadata": {
            "needs_background": "light"
          }
        }
      ]
    },
    {
      "cell_type": "code",
      "metadata": {
        "id": "8Mcfi9n2xFLo"
      },
      "source": [
        "Input = tf.keras.layers.Input(shape=(28,28)) # Định nghĩa input shape cho model\n",
        "Flatten = tf.keras.layers.Flatten()(Input)   # Duỗi thẳng ảnh ra thành 1 vector\n",
        "Dense1 = tf.keras.layers.Dense(units=600, activation=\"relu\")(Flatten) # Định nghĩa số node cho lớp FC, dùng activation là relu\n",
        "Dense2 = tf.keras.layers.Dense(units=300, activation=\"relu\")(Dense1)\n",
        "Output = tf.keras.layers.Dense(units=len(np.unique(train_labels)), activation=\"softmax\")(Dense2) # Đây là lớp classifier của model, với số nodes đúng bằng số labels \n",
        "\n",
        "model=tf.keras.models.Model(inputs=Input, outputs=Output) "
      ],
      "execution_count": null,
      "outputs": []
    },
    {
      "cell_type": "code",
      "metadata": {
        "colab": {
          "base_uri": "https://localhost:8080/"
        },
        "id": "sHlRTdxCyjil",
        "outputId": "34681905-6c20-4a2a-d83a-ee050c224074"
      },
      "source": [
        "#In thử model ra để xem cấu trúc\n",
        "model.summary()"
      ],
      "execution_count": null,
      "outputs": [
        {
          "output_type": "stream",
          "name": "stdout",
          "text": [
            "Model: \"model_5\"\n",
            "_________________________________________________________________\n",
            "Layer (type)                 Output Shape              Param #   \n",
            "=================================================================\n",
            "input_9 (InputLayer)         [(None, 28, 28)]          0         \n",
            "_________________________________________________________________\n",
            "flatten_8 (Flatten)          (None, 784)               0         \n",
            "_________________________________________________________________\n",
            "dense_24 (Dense)             (None, 600)               471000    \n",
            "_________________________________________________________________\n",
            "dense_25 (Dense)             (None, 300)               180300    \n",
            "_________________________________________________________________\n",
            "dense_26 (Dense)             (None, 10)                3010      \n",
            "=================================================================\n",
            "Total params: 654,310\n",
            "Trainable params: 654,310\n",
            "Non-trainable params: 0\n",
            "_________________________________________________________________\n"
          ]
        }
      ]
    },
    {
      "cell_type": "code",
      "metadata": {
        "id": "M7h4l7oBzHgX"
      },
      "source": [
        "#compile model\n",
        "model.compile(optimizer=tf.keras.optimizers.SGD, loss=tf.keras.losses.sparse_categorical_crossentropy ,metrics=[\"accuracy\"])\n",
        "#optimizer là chọn optimizer cho model\n",
        "#loss là chọn loss function cho model\n",
        "#metrics là chọn metrics cho model"
      ],
      "execution_count": null,
      "outputs": []
    },
    {
      "cell_type": "code",
      "metadata": {
        "colab": {
          "base_uri": "https://localhost:8080/"
        },
        "id": "MkblIgVEziyw",
        "outputId": "0b2efd64-3c0f-4aa5-ee2b-d34cb7202de3"
      },
      "source": [
        "history=model.fit(x=train_images, y=train_labels,\n",
        "                  epochs=20,\n",
        "                  verbose=1,\n",
        "                  validation_data=(valid_images,valid_labels))"
      ],
      "execution_count": null,
      "outputs": [
        {
          "output_type": "stream",
          "name": "stdout",
          "text": [
            "Epoch 1/20\n",
            "1688/1688 [==============================] - 8s 5ms/step - loss: 2.6164 - accuracy: 0.7669 - val_loss: 0.5433 - val_accuracy: 0.8158\n",
            "Epoch 2/20\n",
            "1688/1688 [==============================] - 8s 5ms/step - loss: 0.5364 - accuracy: 0.8152 - val_loss: 0.5075 - val_accuracy: 0.8212\n",
            "Epoch 3/20\n",
            "1688/1688 [==============================] - 8s 5ms/step - loss: 0.4717 - accuracy: 0.8322 - val_loss: 0.3993 - val_accuracy: 0.8553\n",
            "Epoch 4/20\n",
            "1688/1688 [==============================] - 8s 5ms/step - loss: 0.4301 - accuracy: 0.8466 - val_loss: 0.4375 - val_accuracy: 0.8430\n",
            "Epoch 5/20\n",
            "1688/1688 [==============================] - 8s 5ms/step - loss: 0.4043 - accuracy: 0.8545 - val_loss: 0.4710 - val_accuracy: 0.8347\n",
            "Epoch 6/20\n",
            "1688/1688 [==============================] - 8s 5ms/step - loss: 0.3942 - accuracy: 0.8577 - val_loss: 0.3863 - val_accuracy: 0.8640\n",
            "Epoch 7/20\n",
            "1688/1688 [==============================] - 8s 5ms/step - loss: 0.3812 - accuracy: 0.8623 - val_loss: 0.3948 - val_accuracy: 0.8635\n",
            "Epoch 8/20\n",
            "1688/1688 [==============================] - 8s 5ms/step - loss: 0.3780 - accuracy: 0.8667 - val_loss: 0.3946 - val_accuracy: 0.8630\n",
            "Epoch 9/20\n",
            "1688/1688 [==============================] - 8s 5ms/step - loss: 0.3621 - accuracy: 0.8703 - val_loss: 0.4285 - val_accuracy: 0.8493\n",
            "Epoch 10/20\n",
            "1688/1688 [==============================] - 8s 5ms/step - loss: 0.3577 - accuracy: 0.8734 - val_loss: 0.3883 - val_accuracy: 0.8640\n",
            "Epoch 11/20\n",
            "1688/1688 [==============================] - 8s 5ms/step - loss: 0.3509 - accuracy: 0.8752 - val_loss: 0.3609 - val_accuracy: 0.8688\n",
            "Epoch 12/20\n",
            "1688/1688 [==============================] - 8s 5ms/step - loss: 0.3456 - accuracy: 0.8770 - val_loss: 0.3912 - val_accuracy: 0.8660\n",
            "Epoch 13/20\n",
            "1688/1688 [==============================] - 8s 5ms/step - loss: 0.3411 - accuracy: 0.8777 - val_loss: 0.3911 - val_accuracy: 0.8647\n",
            "Epoch 14/20\n",
            "1688/1688 [==============================] - 8s 5ms/step - loss: 0.3380 - accuracy: 0.8774 - val_loss: 0.3719 - val_accuracy: 0.8742\n",
            "Epoch 15/20\n",
            "1688/1688 [==============================] - 8s 5ms/step - loss: 0.3355 - accuracy: 0.8806 - val_loss: 0.3639 - val_accuracy: 0.8750\n",
            "Epoch 16/20\n",
            "1688/1688 [==============================] - 8s 5ms/step - loss: 0.3286 - accuracy: 0.8832 - val_loss: 0.3729 - val_accuracy: 0.8663\n",
            "Epoch 17/20\n",
            "1688/1688 [==============================] - 8s 5ms/step - loss: 0.3291 - accuracy: 0.8838 - val_loss: 0.3849 - val_accuracy: 0.8710\n",
            "Epoch 18/20\n",
            "1688/1688 [==============================] - 8s 5ms/step - loss: 0.3252 - accuracy: 0.8834 - val_loss: 0.3643 - val_accuracy: 0.8723\n",
            "Epoch 19/20\n",
            "1688/1688 [==============================] - 8s 5ms/step - loss: 0.3237 - accuracy: 0.8836 - val_loss: 0.3673 - val_accuracy: 0.8723\n",
            "Epoch 20/20\n",
            "1688/1688 [==============================] - 8s 5ms/step - loss: 0.3176 - accuracy: 0.8864 - val_loss: 0.4555 - val_accuracy: 0.8643\n"
          ]
        }
      ]
    },
    {
      "cell_type": "code",
      "metadata": {
        "colab": {
          "base_uri": "https://localhost:8080/"
        },
        "id": "24JrQ_wWz8Ua",
        "outputId": "4552fe37-95d2-49fc-c3a5-f28d155ce93f"
      },
      "source": [
        "#Xem độ chính xác trên tập test\n",
        "evaluation=model.evaluate(test_images, test_labels)\n",
        "print(\"Model có độ chính xác là {} và loss là {}\".format(evaluation[1], evaluation[0]))"
      ],
      "execution_count": null,
      "outputs": [
        {
          "output_type": "stream",
          "name": "stdout",
          "text": [
            "313/313 [==============================] - 1s 2ms/step - loss: 0.5153 - accuracy: 0.8541\n",
            "Model có độ chính xác là 0.8540999889373779 và loss là 0.5153272747993469\n"
          ]
        }
      ]
    },
    {
      "cell_type": "markdown",
      "metadata": {
        "id": "s-I_OLBA2OdE"
      },
      "source": [
        "#Bài tập\n",
        "1. Hãy tạo một model có cấu trúc sau và train thử:\n",
        "![image.png](data:image/png;base64,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)\n",
        "2. Nêu cách tính số Param # \n",
        "3. Tính độ chính xác trên tập test"
      ]
    }
  ]
}